{
 "cells": [
  {
   "cell_type": "code",
   "execution_count": 67,
   "id": "7ecd57fb-e3a4-48bb-ab45-3ff5cfa17a16",
   "metadata": {
    "scrolled": true
   },
   "outputs": [
    {
     "name": "stdout",
     "output_type": "stream",
     "text": [
      "Epoch 1/20\n"
     ]
    },
    {
     "name": "stderr",
     "output_type": "stream",
     "text": [
      "C:\\Users\\hp\\AppData\\Local\\Programs\\Python\\Python312\\Lib\\site-packages\\keras\\src\\layers\\core\\embedding.py:90: UserWarning: Argument `input_length` is deprecated. Just remove it.\n",
      "  warnings.warn(\n"
     ]
    },
    {
     "name": "stdout",
     "output_type": "stream",
     "text": [
      "\u001b[1m9/9\u001b[0m \u001b[32m━━━━━━━━━━━━━━━━━━━━\u001b[0m\u001b[37m\u001b[0m \u001b[1m12s\u001b[0m 787ms/step - accuracy: 0.3340 - loss: 8.8145 - val_accuracy: 0.4545 - val_loss: 6.1490\n",
      "Epoch 2/20\n",
      "\u001b[1m9/9\u001b[0m \u001b[32m━━━━━━━━━━━━━━━━━━━━\u001b[0m\u001b[37m\u001b[0m \u001b[1m6s\u001b[0m 682ms/step - accuracy: 0.4729 - loss: 4.9726 - val_accuracy: 0.4545 - val_loss: 1.4390\n",
      "Epoch 3/20\n",
      "\u001b[1m9/9\u001b[0m \u001b[32m━━━━━━━━━━━━━━━━━━━━\u001b[0m\u001b[37m\u001b[0m \u001b[1m7s\u001b[0m 738ms/step - accuracy: 0.4501 - loss: 1.1496 - val_accuracy: 0.5152 - val_loss: 0.8297\n",
      "Epoch 4/20\n",
      "\u001b[1m9/9\u001b[0m \u001b[32m━━━━━━━━━━━━━━━━━━━━\u001b[0m\u001b[37m\u001b[0m \u001b[1m6s\u001b[0m 702ms/step - accuracy: 0.5039 - loss: 0.7960 - val_accuracy: 0.5152 - val_loss: 0.8127\n",
      "Epoch 5/20\n",
      "\u001b[1m9/9\u001b[0m \u001b[32m━━━━━━━━━━━━━━━━━━━━\u001b[0m\u001b[37m\u001b[0m \u001b[1m6s\u001b[0m 713ms/step - accuracy: 0.5236 - loss: 0.7975 - val_accuracy: 0.4545 - val_loss: 0.8136\n",
      "Epoch 6/20\n",
      "\u001b[1m9/9\u001b[0m \u001b[32m━━━━━━━━━━━━━━━━━━━━\u001b[0m\u001b[37m\u001b[0m \u001b[1m6s\u001b[0m 701ms/step - accuracy: 0.4617 - loss: 0.7960 - val_accuracy: 0.5152 - val_loss: 0.8077\n",
      "Epoch 7/20\n",
      "\u001b[1m9/9\u001b[0m \u001b[32m━━━━━━━━━━━━━━━━━━━━\u001b[0m\u001b[37m\u001b[0m \u001b[1m6s\u001b[0m 700ms/step - accuracy: 0.4922 - loss: 0.8089 - val_accuracy: 0.5152 - val_loss: 0.8066\n",
      "Epoch 8/20\n",
      "\u001b[1m9/9\u001b[0m \u001b[32m━━━━━━━━━━━━━━━━━━━━\u001b[0m\u001b[37m\u001b[0m \u001b[1m6s\u001b[0m 684ms/step - accuracy: 0.5039 - loss: 0.8114 - val_accuracy: 0.5152 - val_loss: 0.8067\n",
      "Epoch 9/20\n",
      "\u001b[1m9/9\u001b[0m \u001b[32m━━━━━━━━━━━━━━━━━━━━\u001b[0m\u001b[37m\u001b[0m \u001b[1m6s\u001b[0m 707ms/step - accuracy: 0.5352 - loss: 0.7969 - val_accuracy: 0.5909 - val_loss: 0.8071\n",
      "Epoch 10/20\n",
      "\u001b[1m9/9\u001b[0m \u001b[32m━━━━━━━━━━━━━━━━━━━━\u001b[0m\u001b[37m\u001b[0m \u001b[1m7s\u001b[0m 756ms/step - accuracy: 0.5077 - loss: 0.8244 - val_accuracy: 0.5152 - val_loss: 0.8027\n",
      "Epoch 11/20\n",
      "\u001b[1m9/9\u001b[0m \u001b[32m━━━━━━━━━━━━━━━━━━━━\u001b[0m\u001b[37m\u001b[0m \u001b[1m7s\u001b[0m 753ms/step - accuracy: 0.4905 - loss: 0.7893 - val_accuracy: 0.5152 - val_loss: 0.8006\n",
      "Epoch 12/20\n",
      "\u001b[1m9/9\u001b[0m \u001b[32m━━━━━━━━━━━━━━━━━━━━\u001b[0m\u001b[37m\u001b[0m \u001b[1m7s\u001b[0m 778ms/step - accuracy: 0.5110 - loss: 0.7725 - val_accuracy: 0.5152 - val_loss: 0.7960\n",
      "Epoch 13/20\n",
      "\u001b[1m9/9\u001b[0m \u001b[32m━━━━━━━━━━━━━━━━━━━━\u001b[0m\u001b[37m\u001b[0m \u001b[1m7s\u001b[0m 739ms/step - accuracy: 0.4845 - loss: 0.8022 - val_accuracy: 0.5152 - val_loss: 0.7884\n",
      "Epoch 14/20\n",
      "\u001b[1m9/9\u001b[0m \u001b[32m━━━━━━━━━━━━━━━━━━━━\u001b[0m\u001b[37m\u001b[0m \u001b[1m7s\u001b[0m 747ms/step - accuracy: 0.5123 - loss: 0.8134 - val_accuracy: 0.7727 - val_loss: 0.7864\n",
      "Epoch 15/20\n",
      "\u001b[1m9/9\u001b[0m \u001b[32m━━━━━━━━━━━━━━━━━━━━\u001b[0m\u001b[37m\u001b[0m \u001b[1m7s\u001b[0m 737ms/step - accuracy: 0.6683 - loss: 0.7936 - val_accuracy: 0.5152 - val_loss: 0.7806\n",
      "Epoch 16/20\n",
      "\u001b[1m9/9\u001b[0m \u001b[32m━━━━━━━━━━━━━━━━━━━━\u001b[0m\u001b[37m\u001b[0m \u001b[1m7s\u001b[0m 741ms/step - accuracy: 0.5299 - loss: 0.7616 - val_accuracy: 0.8106 - val_loss: 0.7712\n",
      "Epoch 17/20\n",
      "\u001b[1m9/9\u001b[0m \u001b[32m━━━━━━━━━━━━━━━━━━━━\u001b[0m\u001b[37m\u001b[0m \u001b[1m7s\u001b[0m 755ms/step - accuracy: 0.6140 - loss: 0.7901 - val_accuracy: 0.7121 - val_loss: 0.7617\n",
      "Epoch 18/20\n",
      "\u001b[1m9/9\u001b[0m \u001b[32m━━━━━━━━━━━━━━━━━━━━\u001b[0m\u001b[37m\u001b[0m \u001b[1m7s\u001b[0m 762ms/step - accuracy: 0.6577 - loss: 0.7694 - val_accuracy: 0.8182 - val_loss: 0.7502\n",
      "Epoch 19/20\n",
      "\u001b[1m9/9\u001b[0m \u001b[32m━━━━━━━━━━━━━━━━━━━━\u001b[0m\u001b[37m\u001b[0m \u001b[1m7s\u001b[0m 822ms/step - accuracy: 0.6756 - loss: 0.7555 - val_accuracy: 0.7652 - val_loss: 0.7479\n",
      "Epoch 20/20\n",
      "\u001b[1m9/9\u001b[0m \u001b[32m━━━━━━━━━━━━━━━━━━━━\u001b[0m\u001b[37m\u001b[0m \u001b[1m7s\u001b[0m 799ms/step - accuracy: 0.6864 - loss: 0.7422 - val_accuracy: 0.8333 - val_loss: 0.7385\n",
      "\u001b[1m5/5\u001b[0m \u001b[32m━━━━━━━━━━━━━━━━━━━━\u001b[0m\u001b[37m\u001b[0m \u001b[1m1s\u001b[0m 127ms/step - accuracy: 0.8220 - loss: 0.7312\n"
     ]
    },
    {
     "name": "stderr",
     "output_type": "stream",
     "text": [
      "WARNING:absl:You are saving your model as an HDF5 file via `model.save()` or `keras.saving.save_model(model)`. This file format is considered legacy. We recommend using instead the native Keras format, e.g. `model.save('my_model.keras')` or `keras.saving.save_model(model, 'my_model.keras')`. \n"
     ]
    },
    {
     "name": "stdout",
     "output_type": "stream",
     "text": [
      "Test Accuracy: 83.33%\n"
     ]
    }
   ],
   "source": [
    "import pandas as pd\n",
    "import numpy as np\n",
    "import tensorflow as tf\n",
    "from tensorflow.keras.preprocessing.text import Tokenizer\n",
    "from tensorflow.keras.preprocessing.sequence import pad_sequences\n",
    "from tensorflow.keras.models import Sequential\n",
    "from tensorflow.keras.layers import Embedding, LSTM, Dense, SpatialDropout1D, Bidirectional\n",
    "from sklearn.model_selection import train_test_split\n",
    "\n",
    "# Load the dataset\n",
    "file_path = \"C:\\\\Users\\\\hp\\\\Desktop\\\\homophones_dataset.csv\"\n",
    "df = pd.read_csv(file_path)\n",
    "\n",
    "# Preprocess the dataset\n",
    "sentences = df['Sentence'].values\n",
    "homophones = df['Homophone'].values\n",
    "correct_words = df['Correct Word'].values\n",
    "\n",
    "# Concatenate sentences and homophones for the input\n",
    "inputs = [f\"{sentence} {homophone}\" for sentence, homophone in zip(sentences, homophones)]\n",
    "\n",
    "# Tokenize the inputs\n",
    "input_tokenizer = Tokenizer(num_words=10000, oov_token='<OOV>')\n",
    "input_tokenizer.fit_on_texts(inputs)\n",
    "input_sequences = input_tokenizer.texts_to_sequences(inputs)\n",
    "padded_input_sequences = pad_sequences(input_sequences, maxlen=100, padding='post', truncating='post')\n",
    "\n",
    "# Tokenize the outputs\n",
    "output_tokenizer = Tokenizer(num_words=10000, oov_token='<OOV>')\n",
    "output_tokenizer.fit_on_texts(correct_words)\n",
    "output_sequences = output_tokenizer.texts_to_sequences(correct_words)\n",
    "\n",
    "# Pad the output sequences to have the same length\n",
    "padded_output_sequences = pad_sequences(output_sequences, maxlen=1, padding='post', truncating='post')\n",
    "\n",
    "# Convert the outputs to a numpy array (since they are already sequences of integers)\n",
    "padded_output_sequences = np.array(padded_output_sequences)\n",
    "\n",
    "# Split the data into training and test sets\n",
    "X_train, X_test, y_train, y_test = train_test_split(padded_input_sequences, padded_output_sequences, test_size=0.2, random_state=42)\n",
    "\n",
    "# Load the GloVe embeddings\n",
    "embedding_index = {}\n",
    "embedding_dim = 100\n",
    "glove_file = \"C:\\\\Users\\\\hp\\\\Desktop\\\\New folder\\\\glove.6B.100d.txt\"\n",
    "with open(glove_file, encoding='utf-8') as f:\n",
    "    for line in f:\n",
    "        values = line.split()\n",
    "        word = values[0]\n",
    "        coefs = np.asarray(values[1:], dtype='float32')\n",
    "        embedding_index[word] = coefs\n",
    "\n",
    "# Create the embedding matrix\n",
    "embedding_matrix = np.zeros((10000, embedding_dim))\n",
    "for word, i in input_tokenizer.word_index.items():\n",
    "    if i < 10000:\n",
    "        embedding_vector = embedding_index.get(word)\n",
    "        if embedding_vector is not None:\n",
    "            embedding_matrix[i] = embedding_vector\n",
    "\n",
    "# Create the model\n",
    "model = Sequential()\n",
    "model.add(Embedding(input_dim=10000, output_dim=embedding_dim, input_length=100, weights=[embedding_matrix], trainable=False))\n",
    "model.add(SpatialDropout1D(0.2))\n",
    "model.add(Bidirectional(LSTM(256, dropout=0.2, recurrent_dropout=0.2, return_sequences=True)))\n",
    "model.add(Bidirectional(LSTM(128, dropout=0.2, recurrent_dropout=0.2)))\n",
    "model.add(Dense(10000, activation='softmax'))\n",
    "\n",
    "# Compile the model\n",
    "model.compile(loss='sparse_categorical_crossentropy', optimizer='adam', metrics=['accuracy'])\n",
    "\n",
    "# Train the model\n",
    "history = model.fit(X_train, y_train, epochs=20, validation_data=(X_test, y_test), batch_size=64)\n",
    "\n",
    "# Evaluate the model\n",
    "loss, accuracy = model.evaluate(X_test, y_test)\n",
    "print(f'Test Accuracy: {accuracy * 100:.2f}%')\n",
    "\n",
    "# Save the model\n",
    "model.save('homophone_correction_model.h5')\n",
    "\n",
    "# Predict the correct word for new sentences\n",
    "def predict_correct_word(sentence, homophone):\n",
    "    input_sequence = input_tokenizer.texts_to_sequences([f\"{sentence} {homophone}\"])\n",
    "    padded_input_sequence = pad_sequences(input_sequence, maxlen=100, padding='post', truncating='post')\n",
    "    prediction = model.predict(padded_input_sequence)\n",
    "    predicted_word_index = np.argmax(prediction[0])\n",
    "    predicted_word = output_tokenizer.index_word.get(predicted_word_index, \"Unknown\")\n",
    "    return predicted_word\n"
   ]
  },
  {
   "cell_type": "code",
   "execution_count": 83,
   "id": "553cc3c8-7307-408b-895e-d7b562cf530e",
   "metadata": {},
   "outputs": [
    {
     "name": "stdout",
     "output_type": "stream",
     "text": [
      "\u001b[1m1/1\u001b[0m \u001b[32m━━━━━━━━━━━━━━━━━━━━\u001b[0m\u001b[37m\u001b[0m \u001b[1m0s\u001b[0m 39ms/step\n",
      "there\n"
     ]
    }
   ],
   "source": [
    "# Example prediction\n",
    "example_sentence = \"Dont go here and their\"\n",
    "example_homophone = \"Their\", \"there\", \"Your\", \"They re\"\n",
    "print(predict_correct_word(example_sentence, example_homophone))"
   ]
  },
  {
   "cell_type": "code",
   "execution_count": null,
   "id": "c1f99f82-2162-4d79-9949-8c0b633134da",
   "metadata": {},
   "outputs": [],
   "source": []
  },
  {
   "cell_type": "code",
   "execution_count": null,
   "id": "6d99de14-636e-4214-a265-53a68859c79a",
   "metadata": {},
   "outputs": [],
   "source": []
  },
  {
   "cell_type": "code",
   "execution_count": null,
   "id": "9531a594-f353-4ff4-8d0f-adc2ad974bd8",
   "metadata": {},
   "outputs": [],
   "source": []
  }
 ],
 "metadata": {
  "kernelspec": {
   "display_name": "Python 3 (ipykernel)",
   "language": "python",
   "name": "python3"
  },
  "language_info": {
   "codemirror_mode": {
    "name": "ipython",
    "version": 3
   },
   "file_extension": ".py",
   "mimetype": "text/x-python",
   "name": "python",
   "nbconvert_exporter": "python",
   "pygments_lexer": "ipython3",
   "version": "3.12.2"
  }
 },
 "nbformat": 4,
 "nbformat_minor": 5
}
